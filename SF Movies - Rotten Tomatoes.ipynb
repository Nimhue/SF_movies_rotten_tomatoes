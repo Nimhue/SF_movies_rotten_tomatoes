{
 "cells": [
  {
   "cell_type": "markdown",
   "metadata": {},
   "source": [
    "# SetUp"
   ]
  },
  {
   "cell_type": "code",
   "execution_count": 1,
   "metadata": {},
   "outputs": [],
   "source": [
    "import requests"
   ]
  },
  {
   "cell_type": "code",
   "execution_count": 2,
   "metadata": {},
   "outputs": [],
   "source": [
    "from bs4 import BeautifulSoup"
   ]
  },
  {
   "cell_type": "code",
   "execution_count": 3,
   "metadata": {},
   "outputs": [],
   "source": [
    "url = \"https://editorial.rottentomatoes.com/guide/best-sci-fi-movies-of-all-time/\""
   ]
  },
  {
   "cell_type": "code",
   "execution_count": 4,
   "metadata": {},
   "outputs": [
    {
     "data": {
      "text/plain": [
       "<Response [200]>"
      ]
     },
     "execution_count": 4,
     "metadata": {},
     "output_type": "execute_result"
    }
   ],
   "source": [
    "response = requests.get(url)\n",
    "response"
   ]
  },
  {
   "cell_type": "code",
   "execution_count": 5,
   "metadata": {},
   "outputs": [],
   "source": [
    "html = response.content"
   ]
  },
  {
   "cell_type": "code",
   "execution_count": 6,
   "metadata": {},
   "outputs": [],
   "source": [
    "soup = BeautifulSoup(html, 'lxml')"
   ]
  },
  {
   "cell_type": "code",
   "execution_count": 7,
   "metadata": {},
   "outputs": [],
   "source": [
    "with open('Rotten_Tomatoes_SF.html', 'wb') as file:\n",
    "    file.write(soup.prettify('utf-8'))"
   ]
  },
  {
   "cell_type": "markdown",
   "metadata": {},
   "source": [
    "# Get all data"
   ]
  },
  {
   "cell_type": "code",
   "execution_count": 8,
   "metadata": {},
   "outputs": [],
   "source": [
    "divs = soup.find_all('div', {'class': 'col-sm-18 col-full-xs countdown-item-content'})"
   ]
  },
  {
   "cell_type": "code",
   "execution_count": 71,
   "metadata": {},
   "outputs": [],
   "source": [
    "##divs"
   ]
  },
  {
   "cell_type": "markdown",
   "metadata": {},
   "source": [
    "# Extracting the title and the year"
   ]
  },
  {
   "cell_type": "code",
   "execution_count": 10,
   "metadata": {},
   "outputs": [],
   "source": [
    "headings = [div.find('h2') for div in divs]"
   ]
  },
  {
   "cell_type": "code",
   "execution_count": 72,
   "metadata": {},
   "outputs": [],
   "source": [
    "##headings"
   ]
  },
  {
   "cell_type": "code",
   "execution_count": 12,
   "metadata": {},
   "outputs": [
    {
     "data": {
      "text/plain": [
       "<h2><a href=\"https://www.rottentomatoes.com/m/hitchhikers_guide_to_the_galaxy/\">The Hitchhiker's Guide to the Galaxy</a> <span class=\"subtle start-year\">(2005)</span> <span class=\"icon tiny fresh\" title=\"Fresh\"></span> <span class=\"tMeterScore\">60%</span></h2>"
      ]
     },
     "execution_count": 12,
     "metadata": {},
     "output_type": "execute_result"
    }
   ],
   "source": [
    "headings[0]"
   ]
  },
  {
   "cell_type": "markdown",
   "metadata": {},
   "source": [
    "## Title"
   ]
  },
  {
   "cell_type": "code",
   "execution_count": 73,
   "metadata": {},
   "outputs": [],
   "source": [
    "movie_names = [heading.find('a').string for heading in headings]\n",
    "##movie_names"
   ]
  },
  {
   "cell_type": "markdown",
   "metadata": {},
   "source": [
    "## Year"
   ]
  },
  {
   "cell_type": "code",
   "execution_count": 74,
   "metadata": {},
   "outputs": [],
   "source": [
    "years = [heading.find('span', class_='start-year').string for heading in headings]\n",
    "##years"
   ]
  },
  {
   "cell_type": "code",
   "execution_count": 75,
   "metadata": {},
   "outputs": [],
   "source": [
    "years = [year.strip('()') for year in years]\n",
    "years = [int(year) for year in years]\n",
    "##years"
   ]
  },
  {
   "cell_type": "markdown",
   "metadata": {},
   "source": [
    "## Score"
   ]
  },
  {
   "cell_type": "code",
   "execution_count": 26,
   "metadata": {},
   "outputs": [],
   "source": [
    "scores = [heading.find('span', class_ = 'tMeterScore').string for heading in headings]"
   ]
  },
  {
   "cell_type": "code",
   "execution_count": 76,
   "metadata": {},
   "outputs": [],
   "source": [
    "##scores"
   ]
  },
  {
   "cell_type": "code",
   "execution_count": 28,
   "metadata": {},
   "outputs": [],
   "source": [
    "scores = [s.strip('%') for s in scores]"
   ]
  },
  {
   "cell_type": "code",
   "execution_count": 29,
   "metadata": {},
   "outputs": [],
   "source": [
    "scores = [int(s) for s in scores]"
   ]
  },
  {
   "cell_type": "code",
   "execution_count": 77,
   "metadata": {},
   "outputs": [],
   "source": [
    "##scores"
   ]
  },
  {
   "cell_type": "markdown",
   "metadata": {},
   "source": [
    "## Extracting the rest of the data"
   ]
  },
  {
   "cell_type": "markdown",
   "metadata": {},
   "source": [
    "### Critics Consensus"
   ]
  },
  {
   "cell_type": "code",
   "execution_count": 31,
   "metadata": {},
   "outputs": [],
   "source": [
    "consensus = [div.find('div', {'class': \"info critics-consensus\"}) for div in divs]"
   ]
  },
  {
   "cell_type": "code",
   "execution_count": 78,
   "metadata": {},
   "outputs": [],
   "source": [
    "##consensus"
   ]
  },
  {
   "cell_type": "code",
   "execution_count": 83,
   "metadata": {},
   "outputs": [],
   "source": [
    "##[con.text for con in consensus]"
   ]
  },
  {
   "cell_type": "code",
   "execution_count": 34,
   "metadata": {},
   "outputs": [
    {
     "data": {
      "text/plain": [
       "<div class=\"info critics-consensus\"><span class=\"descriptor\">Critics Consensus:</span> A frantic and occasional funny adaptation of Douglas Adams' novel. However, it may have those unfamiliar with the source material scratching their heads.</div>"
      ]
     },
     "execution_count": 34,
     "metadata": {},
     "output_type": "execute_result"
    }
   ],
   "source": [
    "consensus[0]"
   ]
  },
  {
   "cell_type": "code",
   "execution_count": 79,
   "metadata": {},
   "outputs": [],
   "source": [
    "consensus_text = [con.contents[1].strip() for con in consensus]\n",
    "##consensus_text"
   ]
  },
  {
   "cell_type": "markdown",
   "metadata": {},
   "source": [
    "### Directors"
   ]
  },
  {
   "cell_type": "code",
   "execution_count": 80,
   "metadata": {},
   "outputs": [],
   "source": [
    "directors = [div.find('div', class_=\"director\") for div in divs]\n",
    "##directors"
   ]
  },
  {
   "cell_type": "code",
   "execution_count": 40,
   "metadata": {},
   "outputs": [
    {
     "data": {
      "text/plain": [
       "[<div class=\"info director\">\n",
       " <span class=\"descriptor\">Directed By:</span> <a class=\"\" href=\"/celebrity/garth_jennings_2/\">Garth Jennings</a></div>]"
      ]
     },
     "execution_count": 40,
     "metadata": {},
     "output_type": "execute_result"
    }
   ],
   "source": [
    "[directors[0]]"
   ]
  },
  {
   "cell_type": "code",
   "execution_count": 81,
   "metadata": {},
   "outputs": [],
   "source": [
    "##[director.find(\"a\") for director in directors]"
   ]
  },
  {
   "cell_type": "code",
   "execution_count": 82,
   "metadata": {},
   "outputs": [],
   "source": [
    "final_directors = [None if director.find('a') is None else director.find(\"a\").string for director in directors]\n",
    "##final_directors"
   ]
  },
  {
   "cell_type": "markdown",
   "metadata": {},
   "source": [
    "### Cast Info"
   ]
  },
  {
   "cell_type": "code",
   "execution_count": 84,
   "metadata": {},
   "outputs": [],
   "source": [
    "cast_info = [div.find(\"div\", class_=\"cast\") for div in divs]\n",
    "##cast_info"
   ]
  },
  {
   "cell_type": "code",
   "execution_count": 85,
   "metadata": {},
   "outputs": [],
   "source": [
    "cast = []\n",
    "\n",
    "for c in cast_info:\n",
    "    cast_links = c.find_all('a')\n",
    "    cast_names = [link.string for link in cast_links]\n",
    "    result = \", \".join(cast_names)\n",
    "    \n",
    "    cast.append(result)\n",
    "\n",
    "##cast"
   ]
  },
  {
   "cell_type": "code",
   "execution_count": 86,
   "metadata": {},
   "outputs": [],
   "source": [
    "adj_scores = [div.find(\"div\", {\"class\": \"info countdown-adjusted-score\"}) for div in divs]\n",
    "##adj_scores"
   ]
  },
  {
   "cell_type": "code",
   "execution_count": 59,
   "metadata": {
    "scrolled": true
   },
   "outputs": [
    {
     "data": {
      "text/plain": [
       "<div class=\"info countdown-adjusted-score\"><span class=\"descriptor\">Adjusted Score: </span>66.677% <span class=\"glyphicon glyphicon-question-sign\" data-html=\"true\" data-original-title=\"The Adjusted Score comes from a weighted formula (Bayesian) that we use that accounts for variation in the number of reviews per movie.\" data-placement=\"top\" data-toggle=\"tooltip\" rel=\"tooltip\" title=\"\"></span></div>"
      ]
     },
     "execution_count": 59,
     "metadata": {},
     "output_type": "execute_result"
    }
   ],
   "source": [
    "adj_scores[0]"
   ]
  },
  {
   "cell_type": "code",
   "execution_count": 60,
   "metadata": {},
   "outputs": [],
   "source": [
    "adj_scores_clean = [score.contents[1].strip('% ') for score in adj_scores]"
   ]
  },
  {
   "cell_type": "code",
   "execution_count": 87,
   "metadata": {},
   "outputs": [],
   "source": [
    "final_adj = [float(score) for score in adj_scores_clean]\n",
    "##final_adj"
   ]
  },
  {
   "cell_type": "markdown",
   "metadata": {},
   "source": [
    "### Synopsis"
   ]
  },
  {
   "cell_type": "code",
   "execution_count": 88,
   "metadata": {},
   "outputs": [],
   "source": [
    "synopsis = [div.find(\"div\", class_=\"synopsis\") for div in divs]\n",
    "##synopsis"
   ]
  },
  {
   "cell_type": "code",
   "execution_count": 63,
   "metadata": {},
   "outputs": [
    {
     "data": {
      "text/plain": [
       "<div class=\"info synopsis\"><span class=\"descriptor\">Synopsis:</span> Earthman Arthur Dent is having a very bad day. His house is about to be bulldozed, he discovers that his...<a class=\"\" data-pageheader=\"\" href=\"https://www.rottentomatoes.com/m/hitchhikers_guide_to_the_galaxy/\" target=\"_top\"> [More]</a></div>"
      ]
     },
     "execution_count": 63,
     "metadata": {},
     "output_type": "execute_result"
    }
   ],
   "source": [
    "synopsis[0]"
   ]
  },
  {
   "cell_type": "code",
   "execution_count": 89,
   "metadata": {},
   "outputs": [],
   "source": [
    "synopsis_text = [syn.contents[1] for syn in synopsis]\n",
    "##synopsis_text"
   ]
  },
  {
   "cell_type": "markdown",
   "metadata": {},
   "source": [
    "# Representing the data in a structured form"
   ]
  },
  {
   "cell_type": "code",
   "execution_count": 65,
   "metadata": {},
   "outputs": [],
   "source": [
    "import pandas as pd"
   ]
  },
  {
   "cell_type": "markdown",
   "metadata": {},
   "source": [
    "## Creating a DataFrame and populating it"
   ]
  },
  {
   "cell_type": "code",
   "execution_count": 67,
   "metadata": {},
   "outputs": [],
   "source": [
    "movies_info = pd.DataFrame()\n",
    "\n",
    "movies_info[\"Movie Title\"] = movie_names\n",
    "movies_info[\"Year\"] = years\n",
    "movies_info[\"Score\"] = scores\n",
    "movies_info[\"Adjusted Score\"] = final_adj\n",
    "movies_info[\"Director\"] = final_directors\n",
    "movies_info[\"Synopsis\"] = synopsis_text\n",
    "movies_info[\"Cast\"] = cast\n",
    "movies_info[\"Consensus\"] = consensus_text"
   ]
  },
  {
   "cell_type": "code",
   "execution_count": 68,
   "metadata": {},
   "outputs": [
    {
     "data": {
      "text/html": [
       "<div>\n",
       "<style scoped>\n",
       "    .dataframe tbody tr th:only-of-type {\n",
       "        vertical-align: middle;\n",
       "    }\n",
       "\n",
       "    .dataframe tbody tr th {\n",
       "        vertical-align: top;\n",
       "    }\n",
       "\n",
       "    .dataframe thead th {\n",
       "        text-align: right;\n",
       "    }\n",
       "</style>\n",
       "<table border=\"1\" class=\"dataframe\">\n",
       "  <thead>\n",
       "    <tr style=\"text-align: right;\">\n",
       "      <th></th>\n",
       "      <th>Movie Title</th>\n",
       "      <th>Year</th>\n",
       "      <th>Score</th>\n",
       "      <th>Adjusted Score</th>\n",
       "      <th>Director</th>\n",
       "      <th>Synopsis</th>\n",
       "      <th>Cast</th>\n",
       "      <th>Consensus</th>\n",
       "    </tr>\n",
       "  </thead>\n",
       "  <tbody>\n",
       "    <tr>\n",
       "      <th>0</th>\n",
       "      <td>The Hitchhiker's Guide to the Galaxy</td>\n",
       "      <td>2005</td>\n",
       "      <td>60</td>\n",
       "      <td>66.677</td>\n",
       "      <td>Garth Jennings</td>\n",
       "      <td>Earthman Arthur Dent is having a very bad day. His house is about to be bulldozed, he discovers that his...</td>\n",
       "      <td>Sam Rockwell, Zooey Deschanel, Yasiin Bey, Martin Freeman</td>\n",
       "      <td>A frantic and occasional funny adaptation of Douglas Adams' novel. However, it may have those unfamiliar with the source material scratching their heads.</td>\n",
       "    </tr>\n",
       "    <tr>\n",
       "      <th>1</th>\n",
       "      <td>The Endless</td>\n",
       "      <td>2018</td>\n",
       "      <td>92</td>\n",
       "      <td>96.940</td>\n",
       "      <td>Justin Benson</td>\n",
       "      <td>Following their Lovecraftian modern cult classic SPRING, acclaimed filmmakers Moorhead and Benson return with this mind-bending thriller that follows two...</td>\n",
       "      <td>Aaron Moorhead, Justin Benson, Tate Ellington, Callie Hernandez</td>\n",
       "      <td>The Endless benefits from its grounded approach to an increasingly bizarre story, elevated by believable performances by filmmakers Justin Benson and Aaron Moorhead.</td>\n",
       "    </tr>\n",
       "    <tr>\n",
       "      <th>2</th>\n",
       "      <td>Los Cronocrímenes (Timecrimes)</td>\n",
       "      <td>2007</td>\n",
       "      <td>89</td>\n",
       "      <td>90.708</td>\n",
       "      <td>Nacho Vigalondo</td>\n",
       "      <td>An ordinary guy takes an extraordinary step through time in this science fiction thriller. Hector (Karra Elejalde) is spending a...</td>\n",
       "      <td>Karra Elejalde, Candela Fernández, Nacho Vigalondo, Bárbara Goenaga</td>\n",
       "      <td>Timecrimes is a low-budget thriller that's well-crafted and loaded with dark humor and bizarre twists.</td>\n",
       "    </tr>\n",
       "    <tr>\n",
       "      <th>3</th>\n",
       "      <td>Ad Astra</td>\n",
       "      <td>2019</td>\n",
       "      <td>84</td>\n",
       "      <td>100.634</td>\n",
       "      <td>James Gray</td>\n",
       "      <td>Astronaut Roy McBride (Brad Pitt) travels to the outer edges of the solar system to find his missing father and...</td>\n",
       "      <td>Brad Pitt, Tommy Lee Jones, Ruth Negga, Liv Tyler</td>\n",
       "      <td>Ad Astra takes a visually thrilling journey through the vast reaches of space while charting an ambitious course for the heart of the bond between parent and child.</td>\n",
       "    </tr>\n",
       "    <tr>\n",
       "      <th>4</th>\n",
       "      <td>Westworld</td>\n",
       "      <td>1973</td>\n",
       "      <td>87</td>\n",
       "      <td>90.446</td>\n",
       "      <td>Michael Crichton</td>\n",
       "      <td>Welcome to Westworld, where nothing can go wrong...go wrong...go wrong....Writer/director Michael Crichton has concocted a futuristic \"Disneyland for adults\", a...</td>\n",
       "      <td>Richard Benjamin, James Brolin, Yul Brynner, Alan Oppenheimer</td>\n",
       "      <td>Yul Brynner gives a memorable performance as a robotic cowboy in this amusing sci-fi/western hybrid.</td>\n",
       "    </tr>\n",
       "    <tr>\n",
       "      <th>...</th>\n",
       "      <td>...</td>\n",
       "      <td>...</td>\n",
       "      <td>...</td>\n",
       "      <td>...</td>\n",
       "      <td>...</td>\n",
       "      <td>...</td>\n",
       "      <td>...</td>\n",
       "      <td>...</td>\n",
       "    </tr>\n",
       "    <tr>\n",
       "      <th>145</th>\n",
       "      <td>Star Wars: Episode IV - A New Hope</td>\n",
       "      <td>1977</td>\n",
       "      <td>92</td>\n",
       "      <td>105.515</td>\n",
       "      <td>George Lucas</td>\n",
       "      <td>Nineteen years after the formation of the Empire, Luke Skywalker is thrust into the struggle of the Rebel Alliance when...</td>\n",
       "      <td>Mark Hamill, Harrison Ford, Carrie Fisher, Alec Guinness</td>\n",
       "      <td>A legendarily expansive and ambitious start to the sci-fi saga, George Lucas opened our eyes to the possibilities of blockbuster filmmaking and things have never been the same.</td>\n",
       "    </tr>\n",
       "    <tr>\n",
       "      <th>146</th>\n",
       "      <td>Metropolis</td>\n",
       "      <td>1927</td>\n",
       "      <td>97</td>\n",
       "      <td>108.519</td>\n",
       "      <td>Fritz Lang</td>\n",
       "      <td>In a futuristic city sharply divided between the working class and the city planners, the son of the city's mastermind...</td>\n",
       "      <td>Alfred Abel, Gustav Frolich, Brigitte Helm, Gustav Fröhlich</td>\n",
       "      <td>A visually awe-inspiring science fiction classic from the silent era.</td>\n",
       "    </tr>\n",
       "    <tr>\n",
       "      <th>147</th>\n",
       "      <td>Blade Runner</td>\n",
       "      <td>1982</td>\n",
       "      <td>90</td>\n",
       "      <td>101.549</td>\n",
       "      <td>Ridley Scott</td>\n",
       "      <td>A blend of science fiction and noir detective fiction, Blade Runner (1982) was a box office and critical bust upon...</td>\n",
       "      <td>Harrison Ford, Rutger Hauer, Sean Young, Daryl Hannah</td>\n",
       "      <td>Misunderstood when it first hit theaters, the influence of Ridley Scott's mysterious, neo-noir Blade Runner has deepened with time. A visually remarkable, achingly human sci-fi masterpiece.</td>\n",
       "    </tr>\n",
       "    <tr>\n",
       "      <th>148</th>\n",
       "      <td>Back to the Future</td>\n",
       "      <td>1985</td>\n",
       "      <td>96</td>\n",
       "      <td>102.355</td>\n",
       "      <td>Robert Zemeckis</td>\n",
       "      <td>Contemporary high schooler Marty McFly (Michael J. Fox) doesn't have the most pleasant of lives. Browbeaten by his principal at...</td>\n",
       "      <td>Michael J. Fox, Christopher Lloyd, Crispin Glover, Lea Thompson</td>\n",
       "      <td>Inventive, funny, and breathlessly constructed, Back to the Future is a rousing time-travel adventure with an unforgettable spirit.</td>\n",
       "    </tr>\n",
       "    <tr>\n",
       "      <th>149</th>\n",
       "      <td>2001: A Space Odyssey</td>\n",
       "      <td>1968</td>\n",
       "      <td>92</td>\n",
       "      <td>104.380</td>\n",
       "      <td>Stanley Kubrick</td>\n",
       "      <td>A mind-bending sci-fi symphony, Stanley Kubrick's landmark 1968 epic pushed the limits of narrative and special effects toward a meditation...</td>\n",
       "      <td>Keir Dullea, Gary Lockwood, William Sylvester, Daniel Richter</td>\n",
       "      <td>One of the most influential of all sci-fi films -- and one of the most controversial -- Stanley Kubrick's 2001 is a delicate, poetic meditation on the ingenuity -- and folly -- of mankind.</td>\n",
       "    </tr>\n",
       "  </tbody>\n",
       "</table>\n",
       "<p>150 rows × 8 columns</p>\n",
       "</div>"
      ],
      "text/plain": [
       "                              Movie Title  Year  Score  Adjusted Score  \\\n",
       "0    The Hitchhiker's Guide to the Galaxy  2005     60          66.677   \n",
       "1                             The Endless  2018     92          96.940   \n",
       "2          Los Cronocrímenes (Timecrimes)  2007     89          90.708   \n",
       "3                                Ad Astra  2019     84         100.634   \n",
       "4                               Westworld  1973     87          90.446   \n",
       "..                                    ...   ...    ...             ...   \n",
       "145    Star Wars: Episode IV - A New Hope  1977     92         105.515   \n",
       "146                            Metropolis  1927     97         108.519   \n",
       "147                          Blade Runner  1982     90         101.549   \n",
       "148                    Back to the Future  1985     96         102.355   \n",
       "149                 2001: A Space Odyssey  1968     92         104.380   \n",
       "\n",
       "             Director  \\\n",
       "0      Garth Jennings   \n",
       "1       Justin Benson   \n",
       "2     Nacho Vigalondo   \n",
       "3          James Gray   \n",
       "4    Michael Crichton   \n",
       "..                ...   \n",
       "145      George Lucas   \n",
       "146        Fritz Lang   \n",
       "147      Ridley Scott   \n",
       "148   Robert Zemeckis   \n",
       "149   Stanley Kubrick   \n",
       "\n",
       "                                                                                                                                                                 Synopsis  \\\n",
       "0                                                             Earthman Arthur Dent is having a very bad day. His house is about to be bulldozed, he discovers that his...   \n",
       "1            Following their Lovecraftian modern cult classic SPRING, acclaimed filmmakers Moorhead and Benson return with this mind-bending thriller that follows two...   \n",
       "2                                     An ordinary guy takes an extraordinary step through time in this science fiction thriller. Hector (Karra Elejalde) is spending a...   \n",
       "3                                                      Astronaut Roy McBride (Brad Pitt) travels to the outer edges of the solar system to find his missing father and...   \n",
       "4     Welcome to Westworld, where nothing can go wrong...go wrong...go wrong....Writer/director Michael Crichton has concocted a futuristic \"Disneyland for adults\", a...   \n",
       "..                                                                                                                                                                    ...   \n",
       "145                                            Nineteen years after the formation of the Empire, Luke Skywalker is thrust into the struggle of the Rebel Alliance when...   \n",
       "146                                             In a futuristic city sharply divided between the working class and the city planners, the son of the city's mastermind...   \n",
       "147                                                 A blend of science fiction and noir detective fiction, Blade Runner (1982) was a box office and critical bust upon...   \n",
       "148                                    Contemporary high schooler Marty McFly (Michael J. Fox) doesn't have the most pleasant of lives. Browbeaten by his principal at...   \n",
       "149                        A mind-bending sci-fi symphony, Stanley Kubrick's landmark 1968 epic pushed the limits of narrative and special effects toward a meditation...   \n",
       "\n",
       "                                                                    Cast  \\\n",
       "0              Sam Rockwell, Zooey Deschanel, Yasiin Bey, Martin Freeman   \n",
       "1        Aaron Moorhead, Justin Benson, Tate Ellington, Callie Hernandez   \n",
       "2    Karra Elejalde, Candela Fernández, Nacho Vigalondo, Bárbara Goenaga   \n",
       "3                      Brad Pitt, Tommy Lee Jones, Ruth Negga, Liv Tyler   \n",
       "4          Richard Benjamin, James Brolin, Yul Brynner, Alan Oppenheimer   \n",
       "..                                                                   ...   \n",
       "145             Mark Hamill, Harrison Ford, Carrie Fisher, Alec Guinness   \n",
       "146          Alfred Abel, Gustav Frolich, Brigitte Helm, Gustav Fröhlich   \n",
       "147                Harrison Ford, Rutger Hauer, Sean Young, Daryl Hannah   \n",
       "148      Michael J. Fox, Christopher Lloyd, Crispin Glover, Lea Thompson   \n",
       "149        Keir Dullea, Gary Lockwood, William Sylvester, Daniel Richter   \n",
       "\n",
       "                                                                                                                                                                                         Consensus  \n",
       "0                                        A frantic and occasional funny adaptation of Douglas Adams' novel. However, it may have those unfamiliar with the source material scratching their heads.  \n",
       "1                            The Endless benefits from its grounded approach to an increasingly bizarre story, elevated by believable performances by filmmakers Justin Benson and Aaron Moorhead.  \n",
       "2                                                                                           Timecrimes is a low-budget thriller that's well-crafted and loaded with dark humor and bizarre twists.  \n",
       "3                             Ad Astra takes a visually thrilling journey through the vast reaches of space while charting an ambitious course for the heart of the bond between parent and child.  \n",
       "4                                                                                             Yul Brynner gives a memorable performance as a robotic cowboy in this amusing sci-fi/western hybrid.  \n",
       "..                                                                                                                                                                                             ...  \n",
       "145               A legendarily expansive and ambitious start to the sci-fi saga, George Lucas opened our eyes to the possibilities of blockbuster filmmaking and things have never been the same.  \n",
       "146                                                                                                                          A visually awe-inspiring science fiction classic from the silent era.  \n",
       "147  Misunderstood when it first hit theaters, the influence of Ridley Scott's mysterious, neo-noir Blade Runner has deepened with time. A visually remarkable, achingly human sci-fi masterpiece.  \n",
       "148                                                            Inventive, funny, and breathlessly constructed, Back to the Future is a rousing time-travel adventure with an unforgettable spirit.  \n",
       "149   One of the most influential of all sci-fi films -- and one of the most controversial -- Stanley Kubrick's 2001 is a delicate, poetic meditation on the ingenuity -- and folly -- of mankind.  \n",
       "\n",
       "[150 rows x 8 columns]"
      ]
     },
     "execution_count": 68,
     "metadata": {},
     "output_type": "execute_result"
    }
   ],
   "source": [
    "pd.set_option('display.max_colwidth', None)\n",
    "movies_info"
   ]
  },
  {
   "cell_type": "markdown",
   "metadata": {},
   "source": [
    "# Exporting the data"
   ]
  },
  {
   "cell_type": "code",
   "execution_count": 69,
   "metadata": {},
   "outputs": [],
   "source": [
    "movies_info.to_csv(\"SF_movies.csv\", index = False, header = True)"
   ]
  },
  {
   "cell_type": "code",
   "execution_count": 70,
   "metadata": {},
   "outputs": [],
   "source": [
    "movies_info.to_excel(\"SF_movies.xlsx\", index = False, header = True)"
   ]
  }
 ],
 "metadata": {
  "kernelspec": {
   "display_name": "Python 3",
   "language": "python",
   "name": "python3"
  },
  "language_info": {
   "codemirror_mode": {
    "name": "ipython",
    "version": 3
   },
   "file_extension": ".py",
   "mimetype": "text/x-python",
   "name": "python",
   "nbconvert_exporter": "python",
   "pygments_lexer": "ipython3",
   "version": "3.7.6"
  }
 },
 "nbformat": 4,
 "nbformat_minor": 4
}
